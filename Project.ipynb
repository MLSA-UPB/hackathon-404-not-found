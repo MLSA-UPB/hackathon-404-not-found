{
 "cells": [
  {
   "cell_type": "code",
   "execution_count": 6,
   "metadata": {},
   "outputs": [],
   "source": [
    "import tensorflow as tf\n",
    "import pandas as pd\n",
    "import numpy as np\n",
    "import os\n",
    "from os import listdir\n",
    "from tensorflow.keras.preprocessing.image import load_img\n",
    "import cv2\n",
    "import matplotlib.pyplot as plt"
   ]
  },
  {
   "cell_type": "code",
   "execution_count": 2,
   "metadata": {},
   "outputs": [],
   "source": [
    "\n",
    "plus_dir = 'C:\\Dataset\\+'\n",
    "minus_dir = 'C:\\Dataset\\-'\n",
    "times_dir = 'C:/Dataset/times'\n",
    "plus_names = listdir(plus_dir)\n",
    "minus_names = listdir(minus_dir)\n",
    "times_names = listdir(times_dir)"
   ]
  },
  {
   "cell_type": "code",
   "execution_count": 3,
   "metadata": {},
   "outputs": [],
   "source": [
    "plus_len = len([name for name in listdir(plus_dir)])\n",
    "minus_len = len([name for name in listdir(minus_dir)])\n",
    "times_len = len([name for name in listdir(times_dir)])"
   ]
  },
  {
   "cell_type": "code",
   "execution_count": 22,
   "metadata": {
    "scrolled": true
   },
   "outputs": [],
   "source": [
    "train_names = plus_names + minus_names + times_names\n",
    "train_labels = []\n",
    "for i in range(0, plus_len):\n",
    "    train_labels.append(0)\n",
    "for i in range(plus_len, plus_len + minus_len):\n",
    "    train_labels.append(1)\n",
    "for i in range(plus_len + minus_len, plus_len + minus_len + times_len):\n",
    "    train_labels.append(2)"
   ]
  },
  {
   "cell_type": "code",
   "execution_count": 21,
   "metadata": {},
   "outputs": [
    {
     "name": "stdout",
     "output_type": "stream",
     "text": [
      "plus\n"
     ]
    }
   ],
   "source": [
    "X_train = ([])\n",
    "\n",
    "for name in train_names:\n",
    "    X_train.append(cv2.imread(name, 0))\n",
    "    X_train[len(X_train) - 1] = np.reshape(X_train[len(X_train) - 1], (45, 45, 1))\n",
    "    X_train[len(X_train) - 1] = X_train[len(X_train) - 1].astype('float32')\n",
    "    X_train[len(X_train) - 1] /= 255\n",
    "X_train = tf.convert_to_tensor(X_train)\n",
    "print(train_labels[0])"
   ]
  },
  {
   "cell_type": "code",
   "execution_count": 14,
   "metadata": {},
   "outputs": [],
   "source": [
    "for i in range(0, plus_len):\n",
    "    train_names[i] = plus_dir + '/' + train_names[i]\n",
    "for i in range(plus_len, plus_len + minus_len):\n",
    "    train_names[i] = minus_dir + '/' + train_names[i]\n",
    "for i in range(plus_len + minus_len, plus_len + minus_len + times_len):\n",
    "    train_names[i] = times_dir + '/' + train_names[i]"
   ]
  },
  {
   "cell_type": "code",
   "execution_count": 69,
   "metadata": {},
   "outputs": [],
   "source": [
    "import cv2\n",
    "\n",
    "def preprocessing(train_names):\n",
    "    X_train = tf.zeros((plus_len + minus_len + times_len))\n",
    "    for name in train_names:\n",
    "        X_train.append(cv2.imread(name, 0))\n",
    "        X_train[len(X_train) - 1] = np.reshape(X_train[len(X_train) - 1], (1, 45, 45, 1))\n",
    "        X_train[len(X_train) - 1] = X_train[len(X_train) - 1].astype('float32')\n",
    "        X_train[len(X_train) - 1] /= 255\n",
    "    return X_train"
   ]
  },
  {
   "cell_type": "code",
   "execution_count": 36,
   "metadata": {},
   "outputs": [
    {
     "name": "stdout",
     "output_type": "stream",
     "text": [
      "Train on 11434 samples\n",
      "Epoch 1/5\n",
      "11434/11434 [==============================] - 43s 4ms/sample - loss: 0.0032 - accuracy: 0.9990\n",
      "Epoch 2/5\n",
      "11434/11434 [==============================] - 42s 4ms/sample - loss: 2.7658e-04 - accuracy: 0.9999\n",
      "Epoch 3/5\n",
      "11434/11434 [==============================] - 41s 4ms/sample - loss: 6.7869e-05 - accuracy: 1.0000\n",
      "Epoch 4/5\n",
      "11434/11434 [==============================] - 41s 4ms/sample - loss: 2.6059e-05 - accuracy: 1.0000\n",
      "Epoch 5/5\n",
      "11434/11434 [==============================] - 40s 3ms/sample - loss: 2.4010e-05 - accuracy: 1.0000\n"
     ]
    },
    {
     "data": {
      "text/plain": [
       "<tensorflow.python.keras.callbacks.History at 0x18d09c78f48>"
      ]
     },
     "execution_count": 36,
     "metadata": {},
     "output_type": "execute_result"
    }
   ],
   "source": [
    "X_train = np.asarray(X_train)\n",
    "train_labels = np.asarray(train_labels)\n",
    "model.compile(loss = tf.keras.losses.sparse_categorical_crossentropy,\n",
    "              optimizer = 'adam',\n",
    "              metrics = ['accuracy'])\n",
    "\n",
    "model.fit(X_train, train_labels,\n",
    "        batch_size = 32,\n",
    "        epochs = 5,\n",
    "          shuffle = True\n",
    "        )"
   ]
  },
  {
   "cell_type": "code",
   "execution_count": 43,
   "metadata": {},
   "outputs": [],
   "source": [
    "model.save('symbols.h5')"
   ]
  },
  {
   "cell_type": "code",
   "execution_count": 25,
   "metadata": {},
   "outputs": [
    {
     "name": "stdout",
     "output_type": "stream",
     "text": [
      "Model: \"sequential_1\"\n",
      "_________________________________________________________________\n",
      "Layer (type)                 Output Shape              Param #   \n",
      "=================================================================\n",
      "conv2d_3 (Conv2D)            (None, 43, 43, 32)        320       \n",
      "_________________________________________________________________\n",
      "batch_normalization_4 (Batch (None, 43, 43, 32)        128       \n",
      "_________________________________________________________________\n",
      "max_pooling2d_2 (MaxPooling2 (None, 21, 21, 32)        0         \n",
      "_________________________________________________________________\n",
      "dropout_2 (Dropout)          (None, 21, 21, 32)        0         \n",
      "_________________________________________________________________\n",
      "conv2d_4 (Conv2D)            (None, 19, 19, 32)        9248      \n",
      "_________________________________________________________________\n",
      "batch_normalization_5 (Batch (None, 19, 19, 32)        128       \n",
      "_________________________________________________________________\n",
      "dropout_3 (Dropout)          (None, 19, 19, 32)        0         \n",
      "_________________________________________________________________\n",
      "conv2d_5 (Conv2D)            (None, 17, 17, 32)        9248      \n",
      "_________________________________________________________________\n",
      "batch_normalization_6 (Batch (None, 17, 17, 32)        128       \n",
      "_________________________________________________________________\n",
      "max_pooling2d_3 (MaxPooling2 (None, 8, 8, 32)          0         \n",
      "_________________________________________________________________\n",
      "flatten_1 (Flatten)          (None, 2048)              0         \n",
      "_________________________________________________________________\n",
      "dense_2 (Dense)              (None, 128)               262272    \n",
      "_________________________________________________________________\n",
      "batch_normalization_7 (Batch (None, 128)               512       \n",
      "_________________________________________________________________\n",
      "dense_3 (Dense)              (None, 3)                 387       \n",
      "=================================================================\n",
      "Total params: 282,371\n",
      "Trainable params: 281,923\n",
      "Non-trainable params: 448\n",
      "_________________________________________________________________\n"
     ]
    }
   ],
   "source": [
    "\n",
    "model = tf.keras.Sequential()\n",
    "model.add(tf.keras.layers.Conv2D(32, kernel_size = (3, 3),\n",
    "                activation = 'relu',\n",
    "                input_shape = (45, 45, 1)))\n",
    "model.add(tf.keras.layers.BatchNormalization())\n",
    "model.add(tf.keras.layers.MaxPooling2D(pool_size = (2,2)))\n",
    "model.add(tf.keras.layers.Dropout(0.2))\n",
    "\n",
    "model.add(tf.keras.layers.Conv2D(32, kernel_size=(3, 3), activation = 'relu'))\n",
    "model.add(tf.keras.layers.BatchNormalization())\n",
    "model.add(tf.keras.layers.Dropout(0.2))\n",
    "\n",
    "model.add(tf.keras.layers.Conv2D(32, kernel_size=(3, 3), activation = 'relu'))\n",
    "model.add(tf.keras.layers.BatchNormalization())\n",
    "model.add(tf.keras.layers.MaxPooling2D(pool_size = (2,2)))\n",
    "\n",
    "model.add(tf.keras.layers.Flatten())\n",
    "model.add(tf.keras.layers.Dense(128, activation = 'relu'))\n",
    "model.add(tf.keras.layers.BatchNormalization())\n",
    "model.add(tf.keras.layers.Dense(3, activation = 'softmax'))\n",
    "\n",
    "model.summary()"
   ]
  },
  {
   "cell_type": "code",
   "execution_count": null,
   "metadata": {},
   "outputs": [],
   "source": [
    "#model.save('C:/Model_Symbols')"
   ]
  },
  {
   "cell_type": "code",
   "execution_count": 41,
   "metadata": {},
   "outputs": [
    {
     "name": "stdout",
     "output_type": "stream",
     "text": [
      "uint8\n",
      "(45, 45)\n"
     ]
    },
    {
     "data": {
      "image/png": "[encoded data removed]",
      "text/plain": [
       "<Figure size 432x288 with 1 Axes>"
      ]
     },
     "metadata": {
      "needs_background": "light"
     },
     "output_type": "display_data"
    }
   ],
   "source": [
    "\n",
    "# load and display an image with Matplotlib\n",
    "from matplotlib import image\n",
    "from matplotlib import pyplot\n",
    "# load image as pixel array\n",
    "img = 'C:/Dataset/+/exp12345.jpg'\n",
    "#img = 'Downloads/canvas-img (4).png'\n",
    "image = cv2.imread(img, 0)\n",
    "# summarize shape of the pixel array\n",
    "print(image.dtype)\n",
    "print(image.shape)\n",
    "# display the array of pixels as an image\n",
    "pyplot.imshow(image)\n",
    "pyplot.show()"
   ]
  },
  {
   "cell_type": "code",
   "execution_count": 42,
   "metadata": {},
   "outputs": [
    {
     "name": "stdout",
     "output_type": "stream",
     "text": [
      "[[9.9971646e-01 2.4992253e-06 2.8100406e-04]]\n"
     ]
    }
   ],
   "source": [
    "image = np.reshape(image, (1, 45, 45, 1))\n",
    "image = image / 255\n",
    "pred = model.predict(image)\n",
    "print(pred)"
   ]
  },
  {
   "cell_type": "code",
   "execution_count": null,
   "metadata": {},
   "outputs": [],
   "source": []
  }
 ],
 "metadata": {
  "kernelspec": {
   "display_name": "Python 3",
   "language": "python",
   "name": "python3"
  },
  "language_info": {
   "codemirror_mode": {
    "name": "ipython",
    "version": 3
   },
   "file_extension": ".py",
   "mimetype": "text/x-python",
   "name": "python",
   "nbconvert_exporter": "python",
   "pygments_lexer": "ipython3",
   "version": "3.7.7"
  }
 },
 "nbformat": 4,
 "nbformat_minor": 4
}
